{
 "cells": [
  {
   "cell_type": "markdown",
   "metadata": {},
   "source": [
    "# Setup môi trường"
   ]
  },
  {
   "cell_type": "code",
   "execution_count": 1,
   "metadata": {},
   "outputs": [
    {
     "name": "stdout",
     "output_type": "stream",
     "text": [
      "/home/haipn/Clone/Research_ThyroidFNA_ClassAI/phase2_280824/notebooks/train_module2/with_aug_data\n",
      "/home/haipn/Clone/Research_ThyroidFNA_ClassAI/phase2_280824\n"
     ]
    }
   ],
   "source": [
    "import os\n",
    "print(os.getcwd())\n",
    "os.chdir(\"../../..\")\n",
    "print(os.getcwd())"
   ]
  },
  {
   "cell_type": "code",
   "execution_count": 2,
   "metadata": {},
   "outputs": [
    {
     "name": "stdout",
     "output_type": "stream",
     "text": [
      "1173\n"
     ]
    }
   ],
   "source": [
    "import torch\n",
    "from src.models.module2.vit import H13_63_ViT\n",
    "\n",
    "model = H13_63_ViT()\n",
    "num_params = sum(p.numel() for p in model.parameters())\n",
    "print(num_params)"
   ]
  },
  {
   "cell_type": "markdown",
   "metadata": {},
   "source": [
    "# Setup data"
   ]
  },
  {
   "cell_type": "code",
   "execution_count": 5,
   "metadata": {},
   "outputs": [
    {
     "name": "stdout",
     "output_type": "stream",
     "text": [
      "Valid DataFrame:\n",
      "   label     dim_0     dim_1     dim_2     dim_3     dim_4     dim_5  \\\n",
      "0      2 -4.308372 -0.436520  3.545043 -2.595636 -1.076509  3.019734   \n",
      "1      2 -2.273990 -2.976918  4.630661 -5.481691  1.987185  3.077199   \n",
      "2      2 -4.070328 -3.232069  6.819434 -3.002290 -1.391492  3.774137   \n",
      "\n",
      "      dim_6     dim_7     dim_8  ...    dim_29    dim_30    dim_31    dim_32  \\\n",
      "0 -3.748788 -0.974676  4.619431  ...  4.596820 -4.209521 -0.469024  4.025341   \n",
      "1 -4.994466  1.433963  2.813911  ...  3.553807 -3.890979 -0.693126  4.631985   \n",
      "2 -2.197132 -2.203136  3.730880  ...  2.323358 -3.455380 -3.436366  6.039357   \n",
      "\n",
      "     dim_33    dim_34    dim_35    dim_36    dim_37    dim_38  \n",
      "0 -3.474844 -1.487661  5.017033 -1.916778 -0.383969  2.663312  \n",
      "1 -2.152809 -0.549343  3.090957 -1.015712 -1.852066  2.541131  \n",
      "2 -3.923026 -2.357094  5.158929 -4.472951 -3.406128  6.673154  \n",
      "\n",
      "[3 rows x 40 columns]\n",
      "Test DataFrame:\n",
      "   label     dim_0     dim_1     dim_2     dim_3     dim_4     dim_5  \\\n",
      "0      2 -3.796856  0.253959  2.877217 -5.331173  3.020115  1.696861   \n",
      "1      2 -1.773854 -2.388358  4.133105 -4.472247  2.485264  1.485237   \n",
      "2      2 -2.350752  0.081050  1.976886 -3.827375  2.962807  0.343403   \n",
      "\n",
      "      dim_6     dim_7     dim_8  ...    dim_29    dim_30    dim_31    dim_32  \\\n",
      "0 -5.202694  1.392334  2.969771  ...  3.350157 -3.535631  0.163143  2.530488   \n",
      "1 -4.855537 -0.433563  4.551636  ...  4.002171 -4.629158 -0.437382  4.171252   \n",
      "2 -5.119369  0.324123  3.400166  ...  0.545714 -3.568954 -0.028026  2.769698   \n",
      "\n",
      "     dim_33    dim_34    dim_35    dim_36    dim_37    dim_38  \n",
      "0 -4.519028  1.381369  2.529239 -1.612869  0.088159  2.034805  \n",
      "1 -4.309902 -0.884549  4.688826 -6.092622  0.102198  4.461133  \n",
      "2 -3.385958 -0.573338  3.277399 -0.740373  0.527510  0.592563  \n",
      "\n",
      "[3 rows x 40 columns]\n",
      "Train Augmented DataFrame:\n",
      "   label     dim_0     dim_1     dim_2     dim_3     dim_4     dim_5  \\\n",
      "0      2  1.518592 -2.122206  1.063359  1.083591 -3.078244  1.832143   \n",
      "1      2 -3.997844 -2.013066  5.606269 -2.221863  0.908517  0.995050   \n",
      "2      2 -4.144322 -3.335181  7.014940 -2.851661 -1.254374  4.090703   \n",
      "\n",
      "      dim_6     dim_7     dim_8  ...    dim_29    dim_30    dim_31    dim_32  \\\n",
      "0 -3.617894  1.835063  0.739837  ... -0.450482  0.230301  0.322319 -0.361697   \n",
      "1 -4.953275  1.075495  3.199515  ...  2.695855 -4.411282 -1.748895  5.605376   \n",
      "2 -3.888599 -2.345787  6.091836  ...  6.469357 -5.430499 -2.013651  6.954945   \n",
      "\n",
      "     dim_33    dim_34    dim_35    dim_36    dim_37    dim_38  \n",
      "0 -1.096648  1.402599  0.442939 -3.928780  2.343227  1.505659  \n",
      "1 -6.375985 -0.828269  6.179725 -4.965612  0.590781  3.893331  \n",
      "2 -3.220028 -1.721707  5.068684 -4.063029 -1.196603  5.176606  \n",
      "\n",
      "[3 rows x 40 columns]\n"
     ]
    }
   ],
   "source": [
    "import pandas as pd\n",
    "\n",
    "# Đọc dữ liệu từ CSV\n",
    "data_dir = './data/processed/'\n",
    "train_df = pd.read_csv(data_dir + 'train_features.csv').drop(columns=['image_path'])\n",
    "valid_df = pd.read_csv(data_dir + 'valid_features.csv').drop(columns=['image_path'])\n",
    "test_df = pd.read_csv(data_dir + 'test_features.csv').drop(columns=['image_path'])\n",
    "\n",
    "# data_dir = './data/augmented/'\n",
    "# train_df_aug = pd.read_csv(data_dir + 'train_augmented_features.csv')\n",
    "\n",
    "# Xem cấu trúc của DataFrame\n",
    "print('Train DataFrame:')\n",
    "print(train_df.head(3))\n",
    "print('Valid DataFrame:')\n",
    "print(valid_df.head(3))\n",
    "print('Test DataFrame:')\n",
    "print(test_df.head(3))\n",
    "# print('Train Augmented DataFrame:')\n",
    "# print(train_df_aug.head(3))"
   ]
  },
  {
   "cell_type": "code",
   "execution_count": 12,
   "metadata": {},
   "outputs": [
    {
     "name": "stdout",
     "output_type": "stream",
     "text": [
      "Class Weights (inverse frequency):\n",
      "{2: 0.7693833943833944, 1: 1.111331569664903, 0: 1.2493184634448575}\n",
      "tensor([1.2493, 1.1113, 0.7694])\n"
     ]
    }
   ],
   "source": [
    "import torch\n",
    "# Tính toán số lượng mẫu của mỗi lớp\n",
    "class_counts = train_df['label'].value_counts()\n",
    "total_samples = len(train_df)\n",
    "class_weights = {cls: total_samples / (len(class_counts) * count) for cls, count in class_counts.items()}\n",
    "\n",
    "# In ra thông tin trọng số\n",
    "print(\"Class Weights (inverse frequency):\")\n",
    "print(class_weights)\n",
    "\n",
    "# Chuyển đổi trọng số nhãn thành tensor\n",
    "class_weights_tensor = torch.tensor(sorted(list(class_weights.values()), reverse=True), dtype=torch.float)\n",
    "print(class_weights_tensor)"
   ]
  },
  {
   "cell_type": "code",
   "execution_count": 13,
   "metadata": {},
   "outputs": [
    {
     "name": "stdout",
     "output_type": "stream",
     "text": [
      "torch.Size([25205, 13, 3]) torch.Size([25205])\n",
      "torch.Size([270, 13, 3]) torch.Size([270])\n",
      "torch.Size([273, 13, 3]) torch.Size([273])\n"
     ]
    }
   ],
   "source": [
    "from torch.utils.data import DataLoader, TensorDataset\n",
    "\n",
    "# Chia dữ liệu thành các tensor\n",
    "X_train = torch.tensor(train_df.iloc[:, 1:].values, dtype=torch.float32).reshape(-1, 13, 3)\n",
    "y_train = torch.tensor(train_df['label'].values, dtype=torch.long)\n",
    "X_valid = torch.tensor(valid_df.iloc[:, 1:].values, dtype=torch.float32).reshape(-1, 13, 3)\n",
    "y_valid = torch.tensor(valid_df['label'].values, dtype=torch.long)\n",
    "X_test = torch.tensor(test_df.iloc[:, 1:].values, dtype=torch.float32).reshape(-1, 13, 3)\n",
    "y_test = torch.tensor(test_df['label'].values, dtype=torch.long)\n",
    "print(X_train.shape, y_train.shape)\n",
    "print(X_valid.shape, y_valid.shape)\n",
    "print(X_test.shape, y_test.shape)\n",
    "\n",
    "# Tạo DataLoader\n",
    "train_dataset = TensorDataset(X_train, y_train)\n",
    "valid_dataset = TensorDataset(X_valid, y_valid)\n",
    "test_dataset = TensorDataset(X_test, y_test)\n",
    "train_loader = DataLoader(train_dataset, batch_size=120, shuffle=True)\n",
    "valid_loader = DataLoader(valid_dataset, batch_size=120, shuffle=False)\n",
    "test_loader = DataLoader(test_dataset, batch_size=120, shuffle=False)"
   ]
  },
  {
   "cell_type": "code",
   "execution_count": 14,
   "metadata": {},
   "outputs": [
    {
     "name": "stdout",
     "output_type": "stream",
     "text": [
      "tensor([[ 1.5186, -2.1222,  1.0634],\n",
      "        [ 1.0836, -3.0782,  1.8321],\n",
      "        [-3.6179,  1.8351,  0.7398],\n",
      "        [-1.4320, -0.4256,  1.7170],\n",
      "        [-1.4654,  0.8263,  0.9260],\n",
      "        [-1.4349, -2.0238,  3.4379],\n",
      "        [-1.2509,  0.4347,  1.2152],\n",
      "        [-3.5098, -0.6455,  4.2728],\n",
      "        [-1.4196, -0.5647,  1.8460],\n",
      "        [-0.7928,  1.6443, -0.4505],\n",
      "        [ 0.2303,  0.3223, -0.3617],\n",
      "        [-1.0966,  1.4026,  0.4429],\n",
      "        [-3.9288,  2.3432,  1.5057]])\n"
     ]
    }
   ],
   "source": [
    "print(X_train[0])"
   ]
  },
  {
   "cell_type": "markdown",
   "metadata": {},
   "source": [
    "# Huấn luyện mô hình"
   ]
  },
  {
   "cell_type": "code",
   "execution_count": 15,
   "metadata": {},
   "outputs": [],
   "source": [
    "import torch.optim as optim\n",
    "import torch.nn as nn\n",
    "\n",
    "criterion = nn.CrossEntropyLoss(weight=class_weights_tensor)\n",
    "optimizer = optim.Adam(model.parameters(), lr=0.0001)"
   ]
  },
  {
   "cell_type": "code",
   "execution_count": 17,
   "metadata": {},
   "outputs": [
    {
     "name": "stdout",
     "output_type": "stream",
     "text": [
      "Epoch 1/100, Validation Loss: 0.0689\n",
      "Epoch 2/100, Validation Loss: 0.0796\n",
      "Epoch 3/100, Validation Loss: 0.0757\n",
      "Epoch 4/100, Validation Loss: 0.0723\n",
      "Epoch 5/100, Validation Loss: 0.0729\n",
      "Epoch 6/100, Validation Loss: 0.0659\n",
      "Epoch 7/100, Validation Loss: 0.0732\n",
      "Epoch 8/100, Validation Loss: 0.0723\n",
      "Epoch 9/100, Validation Loss: 0.0736\n",
      "Epoch 10/100, Validation Loss: 0.0708\n",
      "Epoch 11/100, Validation Loss: 0.0683\n",
      "Epoch 12/100, Validation Loss: 0.0631\n",
      "Epoch 13/100, Validation Loss: 0.0759\n",
      "Epoch 14/100, Validation Loss: 0.0689\n",
      "Epoch 15/100, Validation Loss: 0.0666\n",
      "Epoch 16/100, Validation Loss: 0.0703\n",
      "Epoch 17/100, Validation Loss: 0.0633\n",
      "Epoch 18/100, Validation Loss: 0.0649\n",
      "Epoch 19/100, Validation Loss: 0.0616\n",
      "Epoch 20/100, Validation Loss: 0.0768\n",
      "Epoch 21/100, Validation Loss: 0.0614\n",
      "Epoch 22/100, Validation Loss: 0.0601\n",
      "Epoch 23/100, Validation Loss: 0.0690\n",
      "Epoch 24/100, Validation Loss: 0.0629\n",
      "Epoch 25/100, Validation Loss: 0.0659\n",
      "Epoch 26/100, Validation Loss: 0.0610\n",
      "Epoch 27/100, Validation Loss: 0.0671\n",
      "Epoch 28/100, Validation Loss: 0.0547\n",
      "Epoch 29/100, Validation Loss: 0.0580\n",
      "Epoch 30/100, Validation Loss: 0.0556\n",
      "Epoch 31/100, Validation Loss: 0.0620\n",
      "Epoch 32/100, Validation Loss: 0.0579\n",
      "Epoch 33/100, Validation Loss: 0.0634\n",
      "Epoch 34/100, Validation Loss: 0.0625\n",
      "Epoch 35/100, Validation Loss: 0.0552\n",
      "Epoch 36/100, Validation Loss: 0.0561\n",
      "Epoch 37/100, Validation Loss: 0.0590\n",
      "Epoch 38/100, Validation Loss: 0.0544\n",
      "Epoch 39/100, Validation Loss: 0.0527\n",
      "Epoch 40/100, Validation Loss: 0.0514\n",
      "Epoch 41/100, Validation Loss: 0.0573\n",
      "Epoch 42/100, Validation Loss: 0.0565\n",
      "Epoch 43/100, Validation Loss: 0.0513\n",
      "Epoch 44/100, Validation Loss: 0.0509\n",
      "Epoch 45/100, Validation Loss: 0.0490\n",
      "Epoch 46/100, Validation Loss: 0.0557\n",
      "Epoch 47/100, Validation Loss: 0.0472\n",
      "Epoch 48/100, Validation Loss: 0.0548\n",
      "Epoch 49/100, Validation Loss: 0.0537\n",
      "Epoch 50/100, Validation Loss: 0.0470\n",
      "Epoch 51/100, Validation Loss: 0.0482\n",
      "Epoch 52/100, Validation Loss: 0.0528\n",
      "Epoch 53/100, Validation Loss: 0.0460\n",
      "Epoch 54/100, Validation Loss: 0.0483\n",
      "Epoch 55/100, Validation Loss: 0.0475\n",
      "Epoch 56/100, Validation Loss: 0.0523\n",
      "Epoch 57/100, Validation Loss: 0.0476\n",
      "Epoch 58/100, Validation Loss: 0.0460\n",
      "Epoch 59/100, Validation Loss: 0.0423\n",
      "Epoch 60/100, Validation Loss: 0.0461\n",
      "Epoch 61/100, Validation Loss: 0.0430\n",
      "Epoch 62/100, Validation Loss: 0.0448\n",
      "Epoch 63/100, Validation Loss: 0.0535\n",
      "Epoch 64/100, Validation Loss: 0.0462\n",
      "Epoch 65/100, Validation Loss: 0.0408\n",
      "Epoch 66/100, Validation Loss: 0.0483\n",
      "Epoch 67/100, Validation Loss: 0.0443\n",
      "Epoch 68/100, Validation Loss: 0.0467\n",
      "Epoch 69/100, Validation Loss: 0.0448\n",
      "Epoch 70/100, Validation Loss: 0.0392\n",
      "Epoch 71/100, Validation Loss: 0.0444\n",
      "Epoch 72/100, Validation Loss: 0.0496\n",
      "Epoch 73/100, Validation Loss: 0.0435\n",
      "Epoch 74/100, Validation Loss: 0.0462\n",
      "Epoch 75/100, Validation Loss: 0.0459\n",
      "Epoch 76/100, Validation Loss: 0.0444\n",
      "Epoch 77/100, Validation Loss: 0.0404\n",
      "Epoch 78/100, Validation Loss: 0.0418\n",
      "Epoch 79/100, Validation Loss: 0.0405\n",
      "Epoch 80/100, Validation Loss: 0.0436\n",
      "Epoch 81/100, Validation Loss: 0.0456\n",
      "Epoch 82/100, Validation Loss: 0.0429\n",
      "Epoch 83/100, Validation Loss: 0.0383\n",
      "Epoch 84/100, Validation Loss: 0.0450\n",
      "Epoch 85/100, Validation Loss: 0.0390\n",
      "Epoch 86/100, Validation Loss: 0.0476\n",
      "Epoch 87/100, Validation Loss: 0.0419\n",
      "Epoch 88/100, Validation Loss: 0.0423\n",
      "Epoch 89/100, Validation Loss: 0.0423\n",
      "Epoch 90/100, Validation Loss: 0.0416\n",
      "Epoch 91/100, Validation Loss: 0.0392\n",
      "Epoch 92/100, Validation Loss: 0.0444\n",
      "Epoch 93/100, Validation Loss: 0.0411\n",
      "Epoch 94/100, Validation Loss: 0.0417\n",
      "Epoch 95/100, Validation Loss: 0.0399\n",
      "Epoch 96/100, Validation Loss: 0.0375\n",
      "Epoch 97/100, Validation Loss: 0.0432\n",
      "Epoch 98/100, Validation Loss: 0.0412\n",
      "Epoch 99/100, Validation Loss: 0.0378\n",
      "Epoch 100/100, Validation Loss: 0.0387\n"
     ]
    }
   ],
   "source": [
    "model.to('cuda')\n",
    "criterion.to('cuda')\n",
    "\n",
    "num_epochs = 100\n",
    "best_valid_loss = float('inf')\n",
    "for epoch in range(num_epochs):\n",
    "    model.train()\n",
    "    for inputs, labels in train_loader:\n",
    "        inputs, labels = inputs.to('cuda'), labels.to('cuda')\n",
    "        optimizer.zero_grad()\n",
    "        outputs = model(inputs)\n",
    "        loss = criterion(outputs, labels)\n",
    "        loss.backward()\n",
    "        optimizer.step()\n",
    "\n",
    "    # Đánh giá mô hình trên tập validation\n",
    "    model.eval()\n",
    "    valid_loss = 0.0\n",
    "    with torch.no_grad():\n",
    "        for inputs, labels in valid_loader:\n",
    "            inputs, labels = inputs.to('cuda'), labels.to('cuda')\n",
    "            outputs = model(inputs)\n",
    "            loss = criterion(outputs, labels)\n",
    "            valid_loss += loss.item() * inputs.size(0)\n",
    "\n",
    "    valid_loss /= len(valid_loader.dataset)\n",
    "    print(f\"Epoch {epoch+1}/{num_epochs}, Validation Loss: {valid_loss:.4f}\")\n",
    "\n",
    "    if valid_loss < best_valid_loss:\n",
    "        best_valid_loss = valid_loss\n",
    "        torch.save(model.state_dict(), 'best_model_H13_63_ViT_withoutAug.pth')"
   ]
  },
  {
   "cell_type": "markdown",
   "metadata": {},
   "source": [
    "# Kiểm thử"
   ]
  },
  {
   "cell_type": "markdown",
   "metadata": {},
   "source": [
    "## Trên tập valid"
   ]
  },
  {
   "cell_type": "code",
   "execution_count": 18,
   "metadata": {},
   "outputs": [
    {
     "name": "stdout",
     "output_type": "stream",
     "text": [
      "\n",
      "AUC Scores for each class:\n",
      "0.9999798026910106\n",
      "\n",
      "Classification Report:\n",
      "              precision    recall  f1-score   support\n",
      "\n",
      "           0       1.00      1.00      1.00        72\n",
      "           1       0.96      1.00      0.98        81\n",
      "           2       1.00      0.97      0.99       117\n",
      "\n",
      "    accuracy                           0.99       270\n",
      "   macro avg       0.99      0.99      0.99       270\n",
      "weighted avg       0.99      0.99      0.99       270\n",
      "\n"
     ]
    },
    {
     "data": {
      "image/png": "[encoded data removed]",
      "text/plain": [
       "<Figure size 1000x700 with 2 Axes>"
      ]
     },
     "metadata": {},
     "output_type": "display_data"
    }
   ],
   "source": [
    "from sklearn.metrics import confusion_matrix, classification_report, roc_auc_score\n",
    "import seaborn as sns\n",
    "import matplotlib.pyplot as plt\n",
    "import numpy as np\n",
    "import torch\n",
    "import torch.nn.functional as F\n",
    "\n",
    "# Load mô hình tốt nhất\n",
    "model.load_state_dict(torch.load('best_model_H13_63_ViT_withoutAug.pth', weights_only=True, map_location='cpu'))\n",
    "\n",
    "# Dự đoán trên tập validation\n",
    "model.eval()\n",
    "y_true = []\n",
    "y_pred = []\n",
    "y_pred_prob = []  # Lưu xác suất dự đoán cho AUC\n",
    "with torch.no_grad():\n",
    "    for inputs, labels in valid_loader:\n",
    "        outputs = model(inputs)\n",
    "        prob = F.softmax(outputs, dim=1)  # Chuyển đổi đầu ra thành xác suất\n",
    "        _, predicted = torch.max(outputs, 1)\n",
    "        \n",
    "        y_true.extend(labels.numpy())\n",
    "        y_pred.extend(predicted.numpy())\n",
    "        y_pred_prob.extend(prob.numpy())  # Lưu xác suất dự đoán\n",
    "\n",
    "# Chuyển đổi danh sách thành mảng NumPy\n",
    "y_true = np.array(y_true)\n",
    "y_pred = np.array(y_pred)\n",
    "y_pred_prob = np.array(y_pred_prob)\n",
    "\n",
    "# Tính toán confusion matrix và classification report\n",
    "conf_matrix = confusion_matrix(y_true, y_pred)\n",
    "class_report = classification_report(y_true, y_pred)\n",
    "\n",
    "# Tính toán AUC cho từng lớp\n",
    "try:\n",
    "    auc_scores = roc_auc_score(y_true, y_pred_prob, multi_class='ovr')\n",
    "    print(\"\\nAUC Scores for each class:\")\n",
    "    print(auc_scores)\n",
    "except ValueError as e:\n",
    "    print(f\"ValueError: {e}\")\n",
    "\n",
    "print(\"\\nClassification Report:\")\n",
    "print(class_report)\n",
    "\n",
    "# Vẽ confusion matrix\n",
    "plt.figure(figsize=(10, 7))\n",
    "sns.heatmap(conf_matrix, annot=True, fmt='d', cmap='Blues', xticklabels=['Class 0', 'Class 1', 'Class 2'], yticklabels=['Class 0', 'Class 1', 'Class 2'])\n",
    "plt.xlabel('Predicted')\n",
    "plt.ylabel('True')\n",
    "plt.title('Confusion Matrix')\n",
    "plt.show()"
   ]
  },
  {
   "cell_type": "markdown",
   "metadata": {},
   "source": [
    "## Trên tập test"
   ]
  },
  {
   "cell_type": "code",
   "execution_count": 19,
   "metadata": {},
   "outputs": [
    {
     "name": "stdout",
     "output_type": "stream",
     "text": [
      "\n",
      "AUC Scores for each class:\n",
      "0.9482943863427286\n",
      "\n",
      "Classification Report:\n",
      "              precision    recall  f1-score   support\n",
      "\n",
      "           0       1.00      0.93      0.96        73\n",
      "           1       0.73      0.84      0.78        82\n",
      "           2       0.88      0.83      0.86       118\n",
      "\n",
      "    accuracy                           0.86       273\n",
      "   macro avg       0.87      0.87      0.87       273\n",
      "weighted avg       0.87      0.86      0.86       273\n",
      "\n"
     ]
    },
    {
     "data": {
      "image/png": "[encoded data removed]",
      "text/plain": [
       "<Figure size 1000x700 with 2 Axes>"
      ]
     },
     "metadata": {},
     "output_type": "display_data"
    }
   ],
   "source": [
    "from sklearn.metrics import confusion_matrix, classification_report, roc_auc_score\n",
    "import seaborn as sns\n",
    "import matplotlib.pyplot as plt\n",
    "import numpy as np\n",
    "import torch\n",
    "import torch.nn.functional as F\n",
    "\n",
    "# Load mô hình tốt nhất\n",
    "model.load_state_dict(torch.load('best_model_H13_63_ViT_withoutAug.pth', weights_only=True, map_location='cpu'))\n",
    "\n",
    "# Dự đoán trên tập validation\n",
    "model.eval()\n",
    "y_true = []\n",
    "y_pred = []\n",
    "y_pred_prob = []  # Lưu xác suất dự đoán cho AUC\n",
    "with torch.no_grad():\n",
    "    for inputs, labels in test_loader:\n",
    "        outputs = model(inputs)\n",
    "        prob = F.softmax(outputs, dim=1)  # Chuyển đổi đầu ra thành xác suất\n",
    "        _, predicted = torch.max(outputs, 1)\n",
    "        \n",
    "        y_true.extend(labels.numpy())\n",
    "        y_pred.extend(predicted.numpy())\n",
    "        y_pred_prob.extend(prob.numpy())  # Lưu xác suất dự đoán\n",
    "\n",
    "# Chuyển đổi danh sách thành mảng NumPy\n",
    "y_true = np.array(y_true)\n",
    "y_pred = np.array(y_pred)\n",
    "y_pred_prob = np.array(y_pred_prob)\n",
    "\n",
    "# Tính toán confusion matrix và classification report\n",
    "conf_matrix = confusion_matrix(y_true, y_pred)\n",
    "class_report = classification_report(y_true, y_pred)\n",
    "\n",
    "# Tính toán AUC cho từng lớp\n",
    "try:\n",
    "    auc_scores = roc_auc_score(y_true, y_pred_prob, multi_class='ovr')\n",
    "    print(\"\\nAUC Scores for each class:\")\n",
    "    print(auc_scores)\n",
    "except ValueError as e:\n",
    "    print(f\"ValueError: {e}\")\n",
    "\n",
    "print(\"\\nClassification Report:\")\n",
    "print(class_report)\n",
    "\n",
    "# Vẽ confusion matrix\n",
    "plt.figure(figsize=(10, 7))\n",
    "sns.heatmap(conf_matrix, annot=True, fmt='d', cmap='Blues', xticklabels=['Class 0', 'Class 1', 'Class 2'], yticklabels=['Class 0', 'Class 1', 'Class 2'])\n",
    "plt.xlabel('Predicted')\n",
    "plt.ylabel('True')\n",
    "plt.title('Confusion Matrix')\n",
    "plt.show()"
   ]
  }
 ],
 "metadata": {
  "kernelspec": {
   "display_name": "Python 3 (ipykernel)",
   "language": "python",
   "name": "python3"
  },
  "language_info": {
   "codemirror_mode": {
    "name": "ipython",
    "version": 3
   },
   "file_extension": ".py",
   "mimetype": "text/x-python",
   "name": "python",
   "nbconvert_exporter": "python",
   "pygments_lexer": "ipython3",
   "version": "3.12.4"
  }
 },
 "nbformat": 4,
 "nbformat_minor": 4
}
