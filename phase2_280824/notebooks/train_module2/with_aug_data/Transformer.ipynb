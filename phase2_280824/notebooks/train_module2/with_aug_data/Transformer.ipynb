{
 "cells": [
  {
   "cell_type": "markdown",
   "metadata": {},
   "source": [
    "# Setup môi trường"
   ]
  },
  {
   "cell_type": "code",
   "execution_count": null,
   "metadata": {},
   "outputs": [],
   "source": [
    "import os\n",
    "print(os.getcwd())\n",
    "os.chdir(\"../../../..\")\n",
    "print(os.getcwd())"
   ]
  },
  {
   "cell_type": "code",
   "execution_count": null,
   "metadata": {},
   "outputs": [],
   "source": [
    "import torch\n",
    "from src.models.module2.vit import H13_63_ViT\n",
    "\n",
    "model = H13_63_ViT()\n",
    "num_params = sum(p.numel() for p in model.parameters())\n",
    "print(num_params)"
   ]
  },
  {
   "cell_type": "markdown",
   "metadata": {},
   "source": [
    "# Setup data"
   ]
  },
  {
   "cell_type": "code",
   "execution_count": null,
   "metadata": {},
   "outputs": [],
   "source": [
    "import pandas as pd\n",
    "\n",
    "# Đọc dữ liệu từ CSV\n",
    "data_dir = '../../../../data/processed/'\n",
    "# train_df = pd.read_csv(data_dir + 'train_features.csv').drop(columns=['image_path'])\n",
    "valid_df = pd.read_csv(data_dir + 'valid_features.csv').drop(columns=['image_path'])\n",
    "test_df = pd.read_csv(data_dir + 'test_features.csv').drop(columns=['image_path'])\n",
    "\n",
    "data_dir = '../../../../data/augmented/'\n",
    "train_df_aug = pd.read_csv(data_dir + 'train_augmented_features.csv').drop(columns=['image_path'])\n",
    "\n",
    "# Xem cấu trúc của DataFrame\n",
    "# print('Train DataFrame:')\n",
    "# print(train_df.head(3))\n",
    "print('Valid DataFrame:')\n",
    "print(valid_df.head(3))\n",
    "print('Test DataFrame:')\n",
    "print(test_df.head(3))\n",
    "print('Train Augmented DataFrame:')\n",
    "print(train_df_aug.head(3))"
   ]
  },
  {
   "cell_type": "code",
   "execution_count": null,
   "metadata": {},
   "outputs": [],
   "source": [
    "import torch\n",
    "# Tính toán số lượng mẫu của mỗi lớp\n",
    "class_counts = train_df_aug['label'].value_counts()\n",
    "total_samples = len(train_df_aug)\n",
    "class_weights = {cls: total_samples / (len(class_counts) * count) for cls, count in class_counts.items()}\n",
    "\n",
    "# In ra thông tin trọng số\n",
    "print(\"Class Weights (inverse frequency):\")\n",
    "print(class_weights)\n",
    "\n",
    "# Chuyển đổi trọng số nhãn thành tensor\n",
    "class_weights_tensor = torch.tensor(list(class_weights.values()), dtype=torch.float)\n",
    "print(class_weights_tensor)"
   ]
  },
  {
   "cell_type": "code",
   "execution_count": null,
   "metadata": {},
   "outputs": [],
   "source": [
    "from torch.utils.data import DataLoader, TensorDataset\n",
    "\n",
    "# Chia dữ liệu thành các tensor\n",
    "X_train = torch.tensor(train_df_aug.iloc[:, 1:].values, dtype=torch.float32).reshape(-1, 13, 3)\n",
    "y_train = torch.tensor(train_df_aug['label'].values, dtype=torch.long)\n",
    "X_valid = torch.tensor(valid_df.iloc[:, 1:].values, dtype=torch.float32).reshape(-1, 13, 3)\n",
    "y_valid = torch.tensor(valid_df['label'].values, dtype=torch.long)\n",
    "X_test = torch.tensor(test_df.iloc[:, 1:].values, dtype=torch.float32).reshape(-1, 13, 3)\n",
    "y_test = torch.tensor(test_df['label'].values, dtype=torch.long)\n",
    "print(X_train.shape, y_train.shape)\n",
    "print(X_valid.shape, y_valid.shape)\n",
    "print(X_test.shape, y_test.shape)\n",
    "\n",
    "# Tạo DataLoader\n",
    "train_dataset = TensorDataset(X_train, y_train)\n",
    "valid_dataset = TensorDataset(X_valid, y_valid)\n",
    "test_dataset = TensorDataset(X_test, y_test)\n",
    "train_loader = DataLoader(train_dataset, batch_size=120, shuffle=True)\n",
    "valid_loader = DataLoader(valid_dataset, batch_size=120, shuffle=False)\n",
    "test_loader = DataLoader(test_dataset, batch_size=120, shuffle=False)"
   ]
  },
  {
   "cell_type": "markdown",
   "metadata": {},
   "source": [
    "# Huấn luyện mô hình"
   ]
  },
  {
   "cell_type": "code",
   "execution_count": null,
   "metadata": {},
   "outputs": [],
   "source": [
    "import torch.optim as optim\n",
    "import torch.nn as nn\n",
    "\n",
    "criterion = nn.CrossEntropyLoss(weight=class_weights_tensor)\n",
    "optimizer = optim.Adam(model.parameters(), lr=0.001)"
   ]
  },
  {
   "cell_type": "code",
   "execution_count": null,
   "metadata": {},
   "outputs": [],
   "source": [
    "num_epochs = 100\n",
    "best_valid_loss = float('inf')\n",
    "for epoch in range(num_epochs):\n",
    "    model.train()\n",
    "    for inputs, labels in train_loader:\n",
    "        optimizer.zero_grad()\n",
    "        outputs = model(inputs)\n",
    "        loss = criterion(outputs, labels)\n",
    "        loss.backward()\n",
    "        optimizer.step()\n",
    "\n",
    "    # Đánh giá mô hình trên tập validation\n",
    "    model.eval()\n",
    "    valid_loss = 0.0\n",
    "    with torch.no_grad():\n",
    "        for inputs, labels in valid_loader:\n",
    "            outputs = model(inputs)\n",
    "            loss = criterion(outputs, labels)\n",
    "            valid_loss += loss.item() * inputs.size(0)\n",
    "\n",
    "    valid_loss /= len(valid_loader.dataset)\n",
    "    print(f\"Epoch {epoch+1}/{num_epochs}, Validation Loss: {valid_loss:.4f}\")\n",
    "\n",
    "    if valid_loss < best_valid_loss:\n",
    "        best_valid_loss = valid_loss\n",
    "        torch.save(model.state_dict(), 'best_model_H13_63_ViT_withAug.pth')"
   ]
  },
  {
   "cell_type": "markdown",
   "metadata": {},
   "source": [
    "# Kiểm thử"
   ]
  },
  {
   "cell_type": "code",
   "execution_count": null,
   "metadata": {},
   "outputs": [],
   "source": [
    "from sklearn.metrics import confusion_matrix, classification_report, roc_auc_score\n",
    "import seaborn as sns\n",
    "import matplotlib.pyplot as plt\n",
    "import numpy as np\n",
    "import torch\n",
    "import torch.nn.functional as F\n",
    "\n",
    "# Load mô hình tốt nhất\n",
    "model.load_state_dict(torch.load('best_model_H13_63_ViT_withAug.pth', weights_only=True))\n",
    "\n",
    "# Dự đoán trên tập validation\n",
    "model.eval()\n",
    "y_true = []\n",
    "y_pred = []\n",
    "y_pred_prob = []  # Lưu xác suất dự đoán cho AUC\n",
    "with torch.no_grad():\n",
    "    for inputs, labels in valid_loader:\n",
    "        outputs = model(inputs)\n",
    "        prob = F.softmax(outputs, dim=1)  # Chuyển đổi đầu ra thành xác suất\n",
    "        _, predicted = torch.max(outputs, 1)\n",
    "        \n",
    "        y_true.extend(labels.numpy())\n",
    "        y_pred.extend(predicted.numpy())\n",
    "        y_pred_prob.extend(prob.numpy())  # Lưu xác suất dự đoán\n",
    "\n",
    "# Chuyển đổi danh sách thành mảng NumPy\n",
    "y_true = np.array(y_true)\n",
    "y_pred = np.array(y_pred)\n",
    "y_pred_prob = np.array(y_pred_prob)\n",
    "\n",
    "# Tính toán confusion matrix và classification report\n",
    "conf_matrix = confusion_matrix(y_true, y_pred)\n",
    "class_report = classification_report(y_true, y_pred)\n",
    "\n",
    "# Tính toán AUC cho từng lớp\n",
    "try:\n",
    "    auc_scores = roc_auc_score(y_true, y_pred_prob, multi_class='ovr')\n",
    "    print(\"\\nAUC Scores for each class:\")\n",
    "    print(auc_scores)\n",
    "except ValueError as e:\n",
    "    print(f\"ValueError: {e}\")\n",
    "\n",
    "print(\"\\nClassification Report:\")\n",
    "print(class_report)\n",
    "\n",
    "# Vẽ confusion matrix\n",
    "plt.figure(figsize=(10, 7))\n",
    "sns.heatmap(conf_matrix, annot=True, fmt='d', cmap='Blues', xticklabels=['Class 0', 'Class 1', 'Class 2'], yticklabels=['Class 0', 'Class 1', 'Class 2'])\n",
    "plt.xlabel('Predicted')\n",
    "plt.ylabel('True')\n",
    "plt.title('Confusion Matrix')\n",
    "plt.show()"
   ]
  }
 ],
 "metadata": {
  "language_info": {
   "name": "python"
  }
 },
 "nbformat": 4,
 "nbformat_minor": 2
}
