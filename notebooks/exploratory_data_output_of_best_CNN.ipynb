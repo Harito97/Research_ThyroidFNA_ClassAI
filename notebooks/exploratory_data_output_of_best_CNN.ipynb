{
 "cells": [
  {
   "cell_type": "markdown",
   "metadata": {},
   "source": [
    "# Explore output of best current CNN model (performance & number of parameters)"
   ]
  },
  {
   "cell_type": "code",
   "execution_count": null,
   "metadata": {},
   "outputs": [],
   "source": [
    "%pip install torch torchvision\n",
    "%pip install numpy\n",
    "%pip install matplotlib\n",
    "%pip install tqdm"
   ]
  },
  {
   "cell_type": "code",
   "execution_count": null,
   "metadata": {},
   "outputs": [],
   "source": [
    "# Load root project path to sys.path\n",
    "import sys\n",
    "import os\n",
    "\n",
    "# Get the absolute path of the project's root directory\n",
    "project_root = os.path.abspath(os.path.join(os.getcwd(), '..'))\n",
    "\n",
    "# Add the project root to the Python path\n",
    "if project_root not in sys.path:\n",
    "    sys.path.append(project_root)"
   ]
  },
  {
   "cell_type": "code",
   "execution_count": null,
   "metadata": {},
   "outputs": [],
   "source": [
    "# Import the custom utilities\n",
    "import torch\n",
    "import torch.nn as nn\n",
    "import torchvision.transforms as transforms\n",
    "from torch.utils.data import DataLoader, Dataset\n",
    "from torchvision.datasets import ImageFolder\n",
    "import numpy as np\n",
    "import matplotlib.pyplot as plt\n",
    "from mpl_toolkits.mplot3d import Axes3D\n",
    "from tqdm import tqdm\n",
    "import os\n",
    "import pickle\n",
    "from src.models.efficient_net import H0_EfficientNetB0"
   ]
  },
  {
   "cell_type": "code",
   "execution_count": null,
   "metadata": {},
   "outputs": [],
   "source": [
    "# dataver0_path = os.path.join(project_root, 'data', 'processed', 'dataver0')\n",
    "dataver0_path = \"/home/haipn/data/dataver0\"\n",
    "train_path = os.path.join(dataver0_path, 'train')\n",
    "valid_path = os.path.join(dataver0_path, 'valid')\n",
    "# model_path = os.path.join(project_root, 'results', 'experiment_43', 'experiment_43.pth')\n",
    "model_path = \"/home/haipn/backup/experiment_43/experiment_43.pth\""
   ]
  },
  {
   "cell_type": "code",
   "execution_count": null,
   "metadata": {},
   "outputs": [],
   "source": [
    "# 1. Read images from train and valid set\n",
    "class CustomDataset(Dataset):\n",
    "    def __init__(self, root_dir, transform=None):\n",
    "        self.dataset = ImageFolder(root_dir, transform=transform)\n",
    "        \n",
    "    def __len__(self):\n",
    "        return len(self.dataset)\n",
    "    \n",
    "    def __getitem__(self, idx):\n",
    "        image, label = self.dataset[idx]\n",
    "        return image, label\n",
    "\n",
    "# Set up data transforms\n",
    "transform = transforms.Compose([\n",
    "    transforms.Resize((224, 224)),\n",
    "    transforms.ToTensor(),\n",
    "])\n",
    "\n",
    "# Load datasets\n",
    "train_dataset = CustomDataset(train_path, transform=transform)\n",
    "valid_dataset = CustomDataset(valid_path, transform=transform)\n",
    "\n",
    "# Create data loaders\n",
    "batch_size = 120\n",
    "train_loader = DataLoader(train_dataset, batch_size=batch_size, shuffle=False)\n",
    "valid_loader = DataLoader(valid_dataset, batch_size=batch_size, shuffle=False)"
   ]
  },
  {
   "cell_type": "code",
   "execution_count": null,
   "metadata": {},
   "outputs": [],
   "source": [
    "# 2. Inference\n",
    "device = torch.device(\"cuda\" if torch.cuda.is_available() else \"cpu\")\n",
    "model = H0_EfficientNetB0().to(device)\n",
    "model.load_state_dict(torch.load(model_path))\n",
    "model.eval()\n",
    "\n",
    "def inference(dataloader):\n",
    "    outputs = []\n",
    "    labels = []\n",
    "    with torch.no_grad():\n",
    "        for images, batch_labels in tqdm(dataloader):\n",
    "            images = images.to(device)\n",
    "            batch_outputs = model(images)\n",
    "            outputs.append(batch_outputs.cpu().numpy())\n",
    "            labels.append(batch_labels.numpy())\n",
    "    return np.concatenate(outputs), np.concatenate(labels)\n",
    "\n",
    "# 3. Get outputs and labels\n",
    "print(\"Processing training set...\")\n",
    "train_outputs, train_labels = inference(train_loader)\n",
    "print(\"Processing validation set...\")\n",
    "valid_outputs, valid_labels = inference(valid_loader)"
   ]
  },
  {
   "cell_type": "code",
   "execution_count": null,
   "metadata": {},
   "outputs": [],
   "source": [
    "# 4. Save to one file\n",
    "data = {\n",
    "    'train_outputs': train_outputs,\n",
    "    'train_labels': train_labels,\n",
    "    'valid_outputs': valid_outputs,\n",
    "    'valid_labels': valid_labels\n",
    "}\n",
    "\n",
    "with open('cnn_outputs.pkl', 'wb') as f:\n",
    "    pickle.dump(data, f)\n",
    "\n",
    "# 5. Visualize x and y of train and valid in 3D\n",
    "def visualize_3d(outputs, labels, title):\n",
    "    fig = plt.figure(figsize=(10, 8))\n",
    "    ax = fig.add_subplot(111, projection='3d')\n",
    "    scatter = ax.scatter(outputs[:, 0], outputs[:, 1], outputs[:, 2], c=labels, cmap='viridis')\n",
    "    ax.set_xlabel('Output 1')\n",
    "    ax.set_ylabel('Output 2')\n",
    "    ax.set_zlabel('Output 3')\n",
    "    ax.set_title(title)\n",
    "    plt.colorbar(scatter)\n",
    "    plt.savefig(title + '.png')\n",
    "    plt.show()"
   ]
  },
  {
   "cell_type": "code",
   "execution_count": null,
   "metadata": {},
   "outputs": [],
   "source": [
    "visualize_3d(train_outputs, train_labels, 'Training Set')"
   ]
  },
  {
   "cell_type": "code",
   "execution_count": null,
   "metadata": {},
   "outputs": [],
   "source": [
    "visualize_3d(valid_outputs, valid_labels, 'Validation Set')"
   ]
  },
  {
   "cell_type": "code",
   "execution_count": null,
   "metadata": {},
   "outputs": [],
   "source": [
    "# 6. Read the file to load x and y again\n",
    "with open('cnn_outputs.pkl', 'rb') as f:\n",
    "    loaded_data = pickle.load(f)\n",
    "\n",
    "train_outputs = loaded_data['train_outputs']\n",
    "train_labels = loaded_data['train_labels']\n",
    "valid_outputs = loaded_data['valid_outputs']\n",
    "valid_labels = loaded_data['valid_labels']"
   ]
  },
  {
   "cell_type": "code",
   "execution_count": null,
   "metadata": {},
   "outputs": [],
   "source": [
    "# 7. Add ReLU function to x and visualize again\n",
    "def relu(x):\n",
    "    return np.maximum(0, x)\n",
    "\n",
    "def sigmoid(x):\n",
    "    return 1 / (1 + np.exp(-x))\n",
    "\n",
    "def sigrelu(x):\n",
    "    return sigmoid(relu(x))"
   ]
  },
  {
   "cell_type": "code",
   "execution_count": null,
   "metadata": {},
   "outputs": [],
   "source": [
    "# Apply ReLU\n",
    "train_outputs_relu = relu(train_outputs)\n",
    "valid_outputs_relu = relu(valid_outputs)"
   ]
  },
  {
   "cell_type": "code",
   "execution_count": null,
   "metadata": {},
   "outputs": [],
   "source": [
    "visualize_3d(train_outputs_relu, train_labels, 'Training Set (ReLU)')"
   ]
  },
  {
   "cell_type": "code",
   "execution_count": null,
   "metadata": {},
   "outputs": [],
   "source": [
    "visualize_3d(valid_outputs_relu, valid_labels, 'Validation Set (ReLU)')"
   ]
  },
  {
   "cell_type": "code",
   "execution_count": null,
   "metadata": {},
   "outputs": [],
   "source": [
    "# Apply SigReLU\n",
    "train_outputs_sigrelu = sigrelu(train_outputs)\n",
    "valid_outputs_sigrelu = sigrelu(valid_outputs)"
   ]
  },
  {
   "cell_type": "code",
   "execution_count": null,
   "metadata": {},
   "outputs": [],
   "source": [
    "visualize_3d(train_outputs_sigrelu, train_labels, 'Training Set (SigReLU)')"
   ]
  },
  {
   "cell_type": "code",
   "execution_count": null,
   "metadata": {},
   "outputs": [],
   "source": [
    "visualize_3d(valid_outputs_sigrelu, valid_labels, 'Validation Set (SigReLU)')"
   ]
  },
  {
   "cell_type": "code",
   "execution_count": null,
   "metadata": {},
   "outputs": [],
   "source": [
    "# Apply sigmoid\n",
    "train_outputs_sigmoid = sigmoid(train_outputs)\n",
    "valid_outputs_sigmoid = sigmoid(valid_outputs)"
   ]
  },
  {
   "cell_type": "code",
   "execution_count": null,
   "metadata": {},
   "outputs": [],
   "source": [
    "visualize_3d(train_outputs_sigmoid, train_labels, 'Training Set (Sigmoid)')"
   ]
  },
  {
   "cell_type": "code",
   "execution_count": null,
   "metadata": {},
   "outputs": [],
   "source": [
    "visualize_3d(valid_outputs_sigmoid, valid_labels, 'Validation Set (Sigmoid)')"
   ]
  }
 ],
 "metadata": {
  "language_info": {
   "name": "python"
  }
 },
 "nbformat": 4,
 "nbformat_minor": 2
}
