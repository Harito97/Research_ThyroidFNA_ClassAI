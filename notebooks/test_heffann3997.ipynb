{
 "cells": [
  {
   "cell_type": "code",
   "execution_count": 1,
   "metadata": {},
   "outputs": [
    {
     "name": "stdout",
     "output_type": "stream",
     "text": [
      "/Data/Projects/Research_ThyroidFNA_ClassAI\n"
     ]
    },
    {
     "name": "stderr",
     "output_type": "stream",
     "text": [
      "/Data/Projects/venv_manager/ai_work#311/lib/python3.11/site-packages/IPython/core/magics/osm.py:417: UserWarning: This is now an optional IPython functionality, setting dhist requires you to install the `pickleshare` library.\n",
      "  self.shell.db['dhist'] = compress_dhist(dhist)[-100:]\n"
     ]
    }
   ],
   "source": [
    "%cd .. "
   ]
  },
  {
   "cell_type": "code",
   "execution_count": 8,
   "metadata": {},
   "outputs": [],
   "source": [
    "import torch\n",
    "import torch.nn as nn\n",
    "from PIL import Image\n",
    "from torchvision import transforms\n",
    "from src.models.efficient_net import H0_EfficientNetB0\n",
    "from src.models.ann import H39_97_ANN\n",
    "\n",
    "\n",
    "class Heffann3997(nn.Module):\n",
    "    def __init__(self):\n",
    "        super(Heffann3997, self).__init__()\n",
    "        self.efficient_net = H0_EfficientNetB0()\n",
    "        self.ann = H39_97_ANN()\n",
    "        self.device = torch.device(\"cuda\" if torch.cuda.is_available() else \"cpu\")\n",
    "\n",
    "        self.transforms = transforms.Compose(\n",
    "            [transforms.Resize((224, 224)), transforms.ToTensor()]\n",
    "        )\n",
    "\n",
    "    def load_weight(self, module_1_path: str, module_2_path: str):\n",
    "        self.efficient_net.load_state_dict(\n",
    "            torch.load(module_1_path, map_location=self.device)\n",
    "        )\n",
    "        self.ann.load_state_dict(torch.load(module_2_path, map_location=self.device))\n",
    "\n",
    "    def eval_mode(self):\n",
    "        self.eval()\n",
    "        # self.efficient_net.eval()\n",
    "        # self.ann.eval()\n",
    "\n",
    "    def forward(self, x):\n",
    "        \"\"\"x is tensor of shape (batch_size, 3, 224, 224)\"\"\"\n",
    "        if x.size(0) % 13 != 0:\n",
    "            raise ValueError(\"batch_size must be multiple of 13\")\n",
    "        # print(x.shape)\n",
    "        x = self.efficient_net(x)  # shape (batch_size, 3)\n",
    "        # print(x.shape)\n",
    "        x = x.view(-1, 39)  # shape (batch_size // 13, 13 * 3)\n",
    "        # print(x.shape)\n",
    "        x = self.ann(x)  # shape (batch_size // 13, 3)\n",
    "        # print(x.shape)\n",
    "        return x\n",
    "\n",
    "    def predict_from_path(self, imgs_path):\n",
    "        inputs = []\n",
    "        for img_path in imgs_path:\n",
    "            img = Image.open(img_path).convert(\"RGB\").resize((1024, 768))\n",
    "            crops = self._crop_image(img)\n",
    "            crops = [transforms.ToTensor()(crop) for crop in crops]\n",
    "            img = transforms.Resize((224, 224))(img)\n",
    "            img = transforms.ToTensor()(img)\n",
    "            x = torch.stack([img] + crops)\n",
    "            inputs.append(x)\n",
    "        inputs = torch.stack(inputs)\n",
    "        inputs = inputs.to(self.device)\n",
    "        inputs = inputs.view(-1, 3, 224, 224)\n",
    "        outputs = self.forward(inputs)\n",
    "        return outputs\n",
    "\n",
    "    def predict_from_PIL(self, imgs_PIL):\n",
    "        \"\"\"Make sure that imgs is a list of PIL images and img is RGB\"\"\"\n",
    "        inputs = []\n",
    "        for img in imgs_PIL:\n",
    "            crops = self._crop_image(img.resize((1024, 768)))\n",
    "            crops = [transforms.ToTensor()(crop) for crop in crops]\n",
    "            img = transforms.Resize((224, 224))(img)\n",
    "            img = transforms.ToTensor()(img)\n",
    "            x = torch.stack([img] + crops)\n",
    "            inputs.append(x)\n",
    "        inputs = torch.stack(inputs)\n",
    "        inputs = inputs.to(self.device)\n",
    "        outputs = self.forward(inputs)\n",
    "        return outputs\n",
    "\n",
    "    def _crop_image(self, img):\n",
    "        img_crops = []\n",
    "        width, height = img.size\n",
    "        crop_width = 256\n",
    "        crop_height = 256\n",
    "        for i in range(3):  # 3 rows\n",
    "            for j in range(4):  # 4 columns\n",
    "                left = j * crop_width\n",
    "                top = i * crop_height\n",
    "                right = min(left + crop_width, width)\n",
    "                bottom = min(top + crop_height, height)\n",
    "                crop = img.crop((left, top, right, bottom)).resize((224, 224))\n",
    "                img_crops.append(crop)\n",
    "        return img_crops"
   ]
  },
  {
   "cell_type": "code",
   "execution_count": 9,
   "metadata": {},
   "outputs": [],
   "source": [
    "model = Heffann3997()\n",
    "model.eval_mode()"
   ]
  },
  {
   "cell_type": "code",
   "execution_count": 12,
   "metadata": {},
   "outputs": [],
   "source": [
    "imgs_path = [\n",
    "    \"/Data/Projects/Research_ThyroidFNA_ClassAI/notebooks/Validation Set (SigReLU).png\",\n",
    "    \"/Data/Projects/Research_ThyroidFNA_ClassAI/notebooks/Training Set.png\",\n",
    "]"
   ]
  },
  {
   "cell_type": "code",
   "execution_count": 13,
   "metadata": {},
   "outputs": [
    {
     "name": "stdout",
     "output_type": "stream",
     "text": [
      "torch.Size([26, 3, 224, 224])\n",
      "torch.Size([26, 3])\n",
      "torch.Size([2, 39])\n",
      "torch.Size([2, 3])\n"
     ]
    }
   ],
   "source": [
    "output = model.predict_from_path(imgs_path)"
   ]
  },
  {
   "cell_type": "code",
   "execution_count": 14,
   "metadata": {},
   "outputs": [
    {
     "name": "stdout",
     "output_type": "stream",
     "text": [
      "tensor([[ 0.0482,  0.0653, -0.0512],\n",
      "        [ 0.0482,  0.0653, -0.0512]], grad_fn=<AddmmBackward0>)\n"
     ]
    }
   ],
   "source": [
    "print(output)"
   ]
  }
 ],
 "metadata": {
  "kernelspec": {
   "display_name": "ai_work#311",
   "language": "python",
   "name": "python3"
  },
  "language_info": {
   "codemirror_mode": {
    "name": "ipython",
    "version": 3
   },
   "file_extension": ".py",
   "mimetype": "text/x-python",
   "name": "python",
   "nbconvert_exporter": "python",
   "pygments_lexer": "ipython3",
   "version": "3.11.9"
  }
 },
 "nbformat": 4,
 "nbformat_minor": 2
}
