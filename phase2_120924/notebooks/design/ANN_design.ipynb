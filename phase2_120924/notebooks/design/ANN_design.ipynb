{
 "cells": [
  {
   "cell_type": "code",
   "execution_count": 3,
   "metadata": {},
   "outputs": [],
   "source": [
    "import torch\n",
    "import torch.nn as nn\n",
    "from PIL import Image\n",
    "from torchvision import transforms\n",
    "from src.models.efficient_net import H0_EfficientNetB0\n",
    "from src.models.ann import H39_97_ANN\n",
    "\n",
    "\n",
    "class Heffann3997(nn.Module):\n",
    "    def __init__(self):\n",
    "        super(Heffann3997, self).__init__()\n",
    "        self.efficient_net = H0_EfficientNetB0()\n",
    "        self.ann = H39_97_ANN()\n",
    "        self.transforms = transforms.Compose(\n",
    "            [transforms.Resize((224, 224)), transforms.ToTensor()]\n",
    "        )\n",
    "        self.device = torch.device(\"cuda\" if torch.cuda.is_available() else \"cpu\")\n",
    "        self.efficient_net.to(self.device)\n",
    "        self.ann.to(self.device)\n",
    "        self.eval()\n",
    "\n",
    "    def load_weight(self, module_1_path: str, module_2_path: str):\n",
    "        self.efficient_net.load_state_dict(\n",
    "            torch.load(module_1_path, map_location=self.device)\n",
    "        )\n",
    "        self.ann.load_state_dict(torch.load(module_2_path, map_location=self.device))\n",
    "\n",
    "    def forward(self, x):\n",
    "        \"\"\"x is either a path to an image or a PIL Image object\"\"\"\n",
    "        if isinstance(x, str):\n",
    "            x = Image.open(x).resize((1024, 768)).convert(\"RGB\")\n",
    "        elif isinstance(x, Image.Image):\n",
    "            x = x.resize((1024, 768))\n",
    "        else:\n",
    "            raise ValueError(\"x must be a path to an image or a PIL Image object\")\n",
    "\n",
    "        # Step 2. Crop 12 patches 256x256 images from the image\n",
    "        patches = []\n",
    "        for i in range(3):\n",
    "            for j in range(4):\n",
    "                patch = x.crop((i * 256, j * 256, (i + 1) * 256, (j + 1) * 256))\n",
    "                patches.append(patch)\n",
    "        images = [x] + patches\n",
    "\n",
    "        # Step 3. Use transforms to resize 224x224 and convert the patches to tensors\n",
    "        images = [self.transforms(image).to(self.device) for image in images]\n",
    "\n",
    "        # Step 4. Stack the tensors along the batch dimension\n",
    "        x = torch.stack(images)\n",
    "\n",
    "        x = self.efficient_net(x)\n",
    "        print(x.shape)\n",
    "\n",
    "        # # Step 5. Flatten and pass through ANN\n",
    "        # x = x.view(x.size(0), -1)  # Flatten the feature maps\n",
    "        # print(x.shape)\n",
    "        # x = self.ann(x)\n",
    "\n",
    "        return x\n",
    "\n",
    "    @torch.no_grad()\n",
    "    def predict(self, x):\n",
    "        x = self.forward(x)\n",
    "        return torch.argmax(x, dim=1).item()"
   ]
  },
  {
   "cell_type": "code",
   "execution_count": 6,
   "metadata": {},
   "outputs": [
    {
     "name": "stdout",
     "output_type": "stream",
     "text": [
      "torch.Size([13, 3])\n"
     ]
    }
   ],
   "source": [
    "image_path = \"/Data/Projects/OldResearchAboutThyroidCancer/ThyroidCancer_InfoData_Local/dataver0_origin_dataset/B256/B6/z5113668145304_9b5b1e25d5a2869a188d3df1c020341f.jpg\"\n",
    "model = Heffann3997()\n",
    "\n",
    "x = model.forward(image_path)"
   ]
  },
  {
   "cell_type": "code",
   "execution_count": 9,
   "metadata": {},
   "outputs": [
    {
     "name": "stdout",
     "output_type": "stream",
     "text": [
      "torch.Size([39])\n"
     ]
    }
   ],
   "source": [
    "print(x.view(-1).shape)"
   ]
  },
  {
   "cell_type": "code",
   "execution_count": 10,
   "metadata": {},
   "outputs": [
    {
     "name": "stdout",
     "output_type": "stream",
     "text": [
      "tensor([[-0.0225, -0.0017,  0.0112],\n",
      "        [-0.0225, -0.0017,  0.0112],\n",
      "        [-0.0225, -0.0017,  0.0112],\n",
      "        [-0.0225, -0.0017,  0.0112],\n",
      "        [-0.0225, -0.0017,  0.0112],\n",
      "        [-0.0225, -0.0017,  0.0112],\n",
      "        [-0.0225, -0.0017,  0.0112],\n",
      "        [-0.0225, -0.0017,  0.0112],\n",
      "        [-0.0225, -0.0017,  0.0112],\n",
      "        [-0.0225, -0.0017,  0.0112],\n",
      "        [-0.0225, -0.0017,  0.0112],\n",
      "        [-0.0225, -0.0017,  0.0112],\n",
      "        [-0.0225, -0.0017,  0.0112]], grad_fn=<AddmmBackward0>)\n",
      "tensor([-0.0225, -0.0017,  0.0112, -0.0225, -0.0017,  0.0112, -0.0225, -0.0017,\n",
      "         0.0112, -0.0225, -0.0017,  0.0112, -0.0225, -0.0017,  0.0112, -0.0225,\n",
      "        -0.0017,  0.0112, -0.0225, -0.0017,  0.0112, -0.0225, -0.0017,  0.0112,\n",
      "        -0.0225, -0.0017,  0.0112, -0.0225, -0.0017,  0.0112, -0.0225, -0.0017,\n",
      "         0.0112, -0.0225, -0.0017,  0.0112, -0.0225, -0.0017,  0.0112],\n",
      "       grad_fn=<ViewBackward0>)\n"
     ]
    }
   ],
   "source": [
    "print(x)\n",
    "print(x.view(-1))"
   ]
  },
  {
   "cell_type": "code",
   "execution_count": 12,
   "metadata": {},
   "outputs": [
    {
     "name": "stdout",
     "output_type": "stream",
     "text": [
      "torch.Size([1, 39])\n"
     ]
    }
   ],
   "source": [
    "print(x.view(-1).unsqueeze(0).shape)"
   ]
  }
 ],
 "metadata": {
  "kernelspec": {
   "display_name": "ai_work#311",
   "language": "python",
   "name": "python3"
  },
  "language_info": {
   "codemirror_mode": {
    "name": "ipython",
    "version": 3
   },
   "file_extension": ".py",
   "mimetype": "text/x-python",
   "name": "python",
   "nbconvert_exporter": "python",
   "pygments_lexer": "ipython3",
   "version": "3.11.9"
  }
 },
 "nbformat": 4,
 "nbformat_minor": 2
}
