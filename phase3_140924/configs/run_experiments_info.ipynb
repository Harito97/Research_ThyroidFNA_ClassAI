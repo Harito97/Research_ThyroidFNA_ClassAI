{
 "cells": [
  {
   "cell_type": "markdown",
   "metadata": {},
   "source": [
    "# Split data & Augmented images (A, B, C, D)"
   ]
  },
  {
   "cell_type": "code",
   "execution_count": 1,
   "metadata": {},
   "outputs": [
    {
     "name": "stdout",
     "output_type": "stream",
     "text": [
      "/home/haipn/Clone/Research_ThyroidFNA_ClassAI/phase3_140924\n"
     ]
    }
   ],
   "source": [
    "import os\n",
    "os.chdir('..')\n",
    "print(os.getcwd())"
   ]
  },
  {
   "cell_type": "code",
   "execution_count": 3,
   "metadata": {},
   "outputs": [
    {
     "name": "stdout",
     "output_type": "stream",
     "text": [
      "Train directory: ./data/processed/1726417351_70_15_15_42/train\n",
      "Validation directory: ./data/processed/1726417351_70_15_15_42/valid\n",
      "Test directory: ./data/processed/1726417351_70_15_15_42/test\n"
     ]
    }
   ],
   "source": [
    "from src.data.process import split_dataset\n",
    "\n",
    "train_dir, valid_dir, test_dir = split_dataset('./data/Bx-July', './data/processed', 0.7, 0.15)\n",
    "print(f\"Train directory: {train_dir}\")\n",
    "print(f\"Validation directory: {valid_dir}\")\n",
    "print(f\"Test directory: {test_dir}\")"
   ]
  },
  {
   "cell_type": "code",
   "execution_count": 5,
   "metadata": {},
   "outputs": [
    {
     "name": "stdout",
     "output_type": "stream",
     "text": [
      "Augmented the images in ./data/processed/1726417351_70_15_15_42/train.\n",
      "Time: 88.08915138244629 seconds.\n",
      "Augmented directory: ./data/augmented/augmented_train_1726417351_70_15_15_42\n",
      "Augmented the images in ./data/processed/1726417351_70_15_15_42/valid.\n",
      "Time: 17.994099855422974 seconds.\n",
      "Augmented directory: ./data/augmented/augmented_valid_1726417351_70_15_15_42\n"
     ]
    }
   ],
   "source": [
    "from src.data.process import augment_images\n",
    "\n",
    "# augmented_dir = augment_images('./data/processed/{dataset_name}/{dataset_subset}', './data/augmented', './results/final_weights/cluster_detect.pt', batch_size=80)\n",
    "augmented_dir = augment_images('./data/processed/1726417351_70_15_15_42/train', './data/augmented', './results/final_weights/cluster_detect.pt', batch_size=400)\n",
    "print(f\"Augmented directory: {augmented_dir}\")\n",
    "\n",
    "augmented_dir = augment_images('./data/processed/1726417351_70_15_15_42/valid', './data/augmented', './results/final_weights/cluster_detect.pt', batch_size=400)\n",
    "print(f\"Augmented directory: {augmented_dir}\")"
   ]
  },
  {
   "cell_type": "markdown",
   "metadata": {},
   "source": [
    "# Run train module 1 "
   ]
  },
  {
   "cell_type": "markdown",
   "metadata": {},
   "source": [
    "## With train no augmented, val no augmented"
   ]
  },
  {
   "cell_type": "code",
   "execution_count": null,
   "metadata": {},
   "outputs": [],
   "source": [
    "# in ./ project directory\n",
    "nohup python experiments/train_module1 --config_path configs/no_train_aug_no_val_aug/train_module1_vgg16_data_701515.yaml > logs/no_train_aug_no_val_aug_vgg16_data_701515.log 2>&1 &\n",
    "&& nohup python experiments/train_module1 --config_path configs/no_train_aug_no_val_aug/train_module1_vgg19_data_701515.yaml > logs/no_train_aug_no_val_aug_vgg19_data_701515.log 2>&1 &\n",
    "&& nohup python experiments/train_module1 --config_path configs/no_train_aug_no_val_aug/train_module1_resnet18_data_701515.yaml > logs/no_train_aug_no_val_aug_resnet18_data_701515.log 2>&1 &\n",
    "&& nohup python experiments/train_module1 --config_path configs/no_train_aug_no_val_aug/train_module1_resnet152_data_701515.yaml > logs/no_train_aug_no_val_aug_resnet152_data_701515.log 2>&1 &\n",
    "&& nohup python experiments/train_module1 --config_path configs/no_train_aug_no_val_aug/train_module1_densenet121_data_701515.yaml > logs/no_train_aug_no_val_aug_densenet121_data_701515.log 2>&1 &\n",
    "&& nohup python experiments/train_module1 --config_path configs/no_train_aug_no_val_aug/train_module1_densenet201_data_701515.yaml > logs/no_train_aug_no_val_aug_densenet201_data_701515.log 2>&1 &\n",
    "&& nohup python experiments/train_module1 --config_path configs/no_train_aug_no_val_aug/train_module1_efficientnet_b0_data_701515.yaml > logs/no_train_aug_no_val_aug_efficientnet_b0_data_701515.log 2>&1 &\n",
    "&& nohup python experiments/train_module1 --config_path configs/no_train_aug_no_val_aug/train_module1_efficientnet_b7_data_701515.yaml > logs/no_train_aug_no_val_aug_efficientnet_b7_data_701515.log 2>&1 &\n",
    "&& nohup python experiments/train_module1 --config_path configs/no_train_aug_no_val_aug/train_module1_mobilenet_v1_data_701515.yaml > logs/no_train_aug_no_val_aug_mobilenet_v1_data_701515.log 2>&1 &\n",
    "&& nohup python experiments/train_module1 --config_path configs/no_train_aug_no_val_aug/train_module1_mobilenet_v3_large_data_701515.yaml > logs/no_train_aug_no_val_aug_mobilenet_v3_large_data_701515.log 2>&1 &\n",
    "&& nohup python experiments/train_module1 --config_path configs/no_train_aug_no_val_aug/train_module1_vit_b_16_data_701515.yaml > logs/no_train_aug_no_val_aug_vit_b_16_data_701515.log 2>&1 &\n",
    "&& nohup python experiments/train_module1 --config_path configs/no_train_aug_no_val_aug/train_module1_vit_l_16_data_701515.yaml > logs/no_train_aug_no_val_aug_vit_l_16_data_701515.log 2>&1 &\n"
   ]
  },
  {
   "cell_type": "markdown",
   "metadata": {},
   "source": [
    "# Run train module 2"
   ]
  }
 ],
 "metadata": {
  "kernelspec": {
   "display_name": "Python 3 (ipykernel)",
   "language": "python",
   "name": "python3"
  },
  "language_info": {
   "codemirror_mode": {
    "name": "ipython",
    "version": 3
   },
   "file_extension": ".py",
   "mimetype": "text/x-python",
   "name": "python",
   "nbconvert_exporter": "python",
   "pygments_lexer": "ipython3",
   "version": "3.12.4"
  }
 },
 "nbformat": 4,
 "nbformat_minor": 4
}
