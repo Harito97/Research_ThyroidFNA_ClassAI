{
 "cells": [
  {
   "cell_type": "markdown",
   "metadata": {},
   "source": [
    "# Split data & Augmented images (A, B, C, D)"
   ]
  },
  {
   "cell_type": "code",
   "execution_count": null,
   "metadata": {},
   "outputs": [],
   "source": [
    "from src.data.process import split_dataset\n",
    "\n",
    "train_dir, valid_dir, test_dir = split_dataset('./data/raw', './data/processed', 0.7, 0.15)\n",
    "print(f\"Train directory: {train_dir}\")\n",
    "print(f\"Validation directory: {valid_dir}\")\n",
    "print(f\"Test directory: {test_dir}\")"
   ]
  },
  {
   "cell_type": "code",
   "execution_count": null,
   "metadata": {},
   "outputs": [],
   "source": [
    "from src.data.process import augment_images\n",
    "\n",
    "augmented_dir = augment_images('./data/processed/{dataset_name}/{dataset_subset}', './data/augmented', './results/final_weights/cluster_detect.pt', batch_size=80)\n",
    "print(f\"Augmented directory: {augmented_dir}\")"
   ]
  },
  {
   "cell_type": "markdown",
   "metadata": {},
   "source": [
    "# Run train module 1 "
   ]
  },
  {
   "cell_type": "markdown",
   "metadata": {},
   "source": [
    "## With train no augmented, val no augmented"
   ]
  },
  {
   "cell_type": "code",
   "execution_count": null,
   "metadata": {},
   "outputs": [],
   "source": [
    "# in ./ project directory\n",
    "%python experiments/train_module1 --config_path configs/no_train_aug_no_val_aug/train_module1_vgg16_data_701515.yaml\n",
    "%python experiments/train_module1 --config_path configs/no_train_aug_no_val_aug/train_module1_vgg19_data_701515.yaml"
   ]
  },
  {
   "cell_type": "markdown",
   "metadata": {},
   "source": [
    "# Run train module 2"
   ]
  }
 ],
 "metadata": {
  "language_info": {
   "name": "python"
  }
 },
 "nbformat": 4,
 "nbformat_minor": 2
}
