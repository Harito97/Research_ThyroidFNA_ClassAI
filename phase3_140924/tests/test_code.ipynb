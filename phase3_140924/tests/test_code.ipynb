{
 "cells": [
  {
   "cell_type": "code",
   "execution_count": 1,
   "metadata": {},
   "outputs": [
    {
     "name": "stdout",
     "output_type": "stream",
     "text": [
      "/Data/Projects/Research_ThyroidFNA_ClassAI/phase3_140924\n"
     ]
    }
   ],
   "source": [
    "import os\n",
    "import sys\n",
    "\n",
    "os.chdir(\"..\")\n",
    "print(os.getcwd())\n",
    "# # export PYTHONPATH=$(pwd)\n",
    "# print(sys.path)\n",
    "# # Thêm thư mục gốc của dự án vào sys.path\n",
    "# sys.path.append(os.path.abspath(os.getcwd()))\n",
    "# sys.path.append(os.path.abspath(os.path.join(os.getcwd(), 'src')))\n",
    "# print(sys.path)"
   ]
  },
  {
   "cell_type": "markdown",
   "metadata": {},
   "source": [
    "# Test the data process"
   ]
  },
  {
   "cell_type": "code",
   "execution_count": 2,
   "metadata": {},
   "outputs": [],
   "source": [
    "# !python -m unittest tests/test_data_process.py > tests/temp_data_for_tests/current_test.txt\n",
    "# !python -m unittest tests/test_data_process.py"
   ]
  },
  {
   "cell_type": "markdown",
   "metadata": {},
   "source": [
    "# Test train model"
   ]
  },
  {
   "cell_type": "code",
   "execution_count": 3,
   "metadata": {},
   "outputs": [
    {
     "name": "stdout",
     "output_type": "stream",
     "text": [
      "Config loaded\n",
      "{'trainer': {'model_type': 'simple_nn', 'num_epochs': 3, 'patience': 1, 'device': 'cpu'}}\n",
      "Set model in cpu\n",
      "Set dataloaders\n",
      "Set criterion in cpu\n",
      "Set optimizer in cpu\n",
      "Set scheduler in cpu\n",
      "Setup completed\n",
      "Set log in logs/1726395656_simple_nn\n",
      "Epoch 1:\n",
      "  + Train Loss: 1.1266305685043334\n",
      "  + Val Loss: 1.3650505542755127\n",
      "  + Train F1: 0.19718309859154928\n",
      "  + Val F1: 0.12021857923497269\n",
      "  + Train Accuracy: 0.42\n",
      "  + Val Accuracy: 0.22\n",
      "  + Train CM:\n",
      "[[ 0 11  0]\n",
      " [ 0 21  0]\n",
      " [ 0 18  0]]\n",
      "  + Val CM:\n",
      "[[ 0 17  0]\n",
      " [ 0 11  0]\n",
      " [ 0 22  0]]\n",
      "\n",
      "Model saved to best_loss_model.pth\n",
      "**Update best model** about loss in epoch: 1\n",
      "Model saved to best_f1_model.pth\n",
      "**Update best model** about f1 in epoch: 1\n",
      "Model saved to best_acc_model.pth\n",
      "**Update best model** about acc in epoch: 1\n",
      "Epoch 2:\n",
      "  + Train Loss: 1.1192112684249877\n",
      "  + Val Loss: 1.3572736024856566\n",
      "  + Train F1: 0.19718309859154928\n",
      "  + Val F1: 0.12021857923497269\n",
      "  + Train Accuracy: 0.42\n",
      "  + Val Accuracy: 0.22\n",
      "  + Train CM:\n",
      "[[ 0 11  0]\n",
      " [ 0 21  0]\n",
      " [ 0 18  0]]\n",
      "  + Val CM:\n",
      "[[ 0 17  0]\n",
      " [ 0 11  0]\n",
      " [ 0 22  0]]\n",
      "\n",
      "Model saved to best_loss_model.pth\n",
      "**Update best model** about loss in epoch: 2\n",
      "Epoch 3:\n",
      "  + Train Loss: 1.114525270462036\n",
      "  + Val Loss: 1.3485181093215943\n",
      "  + Train F1: 0.19718309859154928\n",
      "  + Val F1: 0.12021857923497269\n",
      "  + Train Accuracy: 0.42\n",
      "  + Val Accuracy: 0.22\n",
      "  + Train CM:\n",
      "[[ 0 11  0]\n",
      " [ 0 21  0]\n",
      " [ 0 18  0]]\n",
      "  + Val CM:\n",
      "[[ 0 17  0]\n",
      " [ 0 11  0]\n",
      " [ 0 22  0]]\n",
      "\n",
      "Model saved to best_loss_model.pth\n",
      "**Update best model** about loss in epoch: 3\n",
      "Saved log and visualizations at: logs/1726395656_simple_nn/train_metrics.pdf\n",
      "Test hoàn tất.\n"
     ]
    }
   ],
   "source": [
    "!python tests/test_train_model.py"
   ]
  },
  {
   "cell_type": "markdown",
   "metadata": {},
   "source": [
    "# t"
   ]
  }
 ],
 "metadata": {
  "kernelspec": {
   "display_name": "ai_work#311",
   "language": "python",
   "name": "python3"
  },
  "language_info": {
   "codemirror_mode": {
    "name": "ipython",
    "version": 3
   },
   "file_extension": ".py",
   "mimetype": "text/x-python",
   "name": "python",
   "nbconvert_exporter": "python",
   "pygments_lexer": "ipython3",
   "version": "3.11.9"
  }
 },
 "nbformat": 4,
 "nbformat_minor": 2
}
