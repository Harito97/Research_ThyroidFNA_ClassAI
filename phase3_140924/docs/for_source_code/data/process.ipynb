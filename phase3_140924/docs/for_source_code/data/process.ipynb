{
 "cells": [
  {
   "cell_type": "markdown",
   "metadata": {},
   "source": [
    "Use split_dataset function"
   ]
  },
  {
   "cell_type": "code",
   "execution_count": null,
   "metadata": {},
   "outputs": [],
   "source": [
    "from src.data.process import split_dataset\n",
    "\n",
    "train_dir, valid_dir, test_dir = split_dataset('path/to/data', 'path/to/destination', 0.7, 0.2)\n",
    "print(f\"Train directory: {train_dir}\")\n",
    "print(f\"Validation directory: {valid_dir}\")\n",
    "print(f\"Test directory: {test_dir}\")"
   ]
  },
  {
   "cell_type": "markdown",
   "metadata": {},
   "source": [
    "Use augment_images"
   ]
  },
  {
   "cell_type": "code",
   "execution_count": null,
   "metadata": {},
   "outputs": [],
   "source": [
    "from src.data.process import augment_images\n",
    "\n",
    "augmented_dir = augment_images('data/train', 'data/processed', 'path/to/model', batch_size=20)\n",
    "print(f\"Augmented directory: {augmented_dir}\")"
   ]
  }
 ],
 "metadata": {
  "language_info": {
   "name": "python"
  }
 },
 "nbformat": 4,
 "nbformat_minor": 2
}
