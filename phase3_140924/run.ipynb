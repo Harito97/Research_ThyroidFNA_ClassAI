{
 "cells": [
  {
   "cell_type": "code",
   "execution_count": null,
   "metadata": {},
   "outputs": [],
   "source": []
  },
  {
   "cell_type": "markdown",
   "metadata": {},
   "source": []
  },
  {
   "cell_type": "markdown",
   "metadata": {},
   "source": [
    "# Create data before pass module 2\n",
    "\n",
    "```bash\n",
    "cd /home/haipn/Clone/Research_ThyroidFNA_ClassAI/phase3_140924\n",
    "nohup python experiments/create_data_for_module2.py > logs/create_data_for_module2.txt 2>&1 &\n",
    "\n",
    "nohup python experiments/create_data_for_module2.py >> data/data_for_module2/create_data_for_module2_log.txt 2>&1 &\n",
    "# Dấu >> đảm bảo nội dung mới sẽ được ghi thêm vào cuối file, thay vì ghi đè nội dung cũ.\n",
    "```"
   ]
  },
  {
   "cell_type": "markdown",
   "metadata": {},
   "source": [
    "# Train module 2\n",
    "\n",
    "3 ways:\n",
    "\n",
    "1. One record has 39 features $\\to$ ANN.  \n",
    "2. One record has 39 features $\\to$ dimension reduce $\\to$ ANN.  \n",
    "3. One record has 13 tokens, each token has 3 elements $\\to$ Transformer.  \n",
    "\n"
   ]
  }
 ],
 "metadata": {
  "language_info": {
   "name": "python"
  }
 },
 "nbformat": 4,
 "nbformat_minor": 2
}
