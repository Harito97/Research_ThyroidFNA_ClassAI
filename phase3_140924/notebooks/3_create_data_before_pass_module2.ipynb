{
 "cells": [
  {
   "cell_type": "markdown",
   "metadata": {},
   "source": [
    "# Create data before pass module 2"
   ]
  },
  {
   "cell_type": "markdown",
   "metadata": {},
   "source": [
    "A model (CNN or ViT) \n",
    "\n",
    "Save in a csv file with format:  \n",
    "`|ID:image_path|true_label|feature_extractor|predicted_vector|`\n",
    "\n",
    "Eg: |data/dataset/test/abc.jpg|0|[list of 13 vectors with size of feature vector]|[list of 13 vectors with size of number_classes]\n",
    "    |data/dataset/test/abc.jpg|1|[[...], [...], ..., [...]]|[[...], [...], ..., [...]]"
   ]
  }
 ],
 "metadata": {
  "language_info": {
   "name": "python"
  }
 },
 "nbformat": 4,
 "nbformat_minor": 2
}
