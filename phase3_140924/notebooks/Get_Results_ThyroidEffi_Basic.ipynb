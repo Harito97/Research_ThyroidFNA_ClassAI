{
 "cells": [
  {
   "cell_type": "code",
   "execution_count": null,
   "metadata": {},
   "outputs": [],
   "source": [
    "!pwd"
   ]
  },
  {
   "cell_type": "code",
   "execution_count": null,
   "metadata": {},
   "outputs": [],
   "source": [
    "import sys\n",
    "import os\n",
    "\n",
    "dirname = '/mnt/DataSamsung/project/Research_ThyroidFNA_ClassAI/phase3_140924/notebooks'\n",
    "sys.path.append(os.path.join(dirname, '..'))\n",
    "from src.models.module1.cnn import get_cnn_model"
   ]
  },
  {
   "cell_type": "code",
   "execution_count": null,
   "metadata": {},
   "outputs": [],
   "source": [
    "# Load the model and make predictions on the test data\n",
    "import torch\n",
    "\n",
    "model_path = '...abc.pth'\n",
    "model = get_cnn_model(name='efficientnet_b0', num_classes=3)\n",
    "model.load_state_dict(torch.load(model_path, map_location=torch.device('cpu')), strict=False)"
   ]
  },
  {
   "cell_type": "code",
   "execution_count": null,
   "metadata": {},
   "outputs": [],
   "source": [
    "# Test images\n",
    "test_dir = '../data/processed/test'\n",
    "\n",
    "# Make predictions\n",
    "# Load the test data as a DataLoader\n",
    "from torchvision import transforms\n"
   ]
  }
 ],
 "metadata": {
  "language_info": {
   "name": "python"
  }
 },
 "nbformat": 4,
 "nbformat_minor": 2
}
