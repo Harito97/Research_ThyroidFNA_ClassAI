{
 "cells": [
  {
   "cell_type": "markdown",
   "metadata": {},
   "source": [
    "# Project Purpose\n",
    "\n",
    "Tên đề tài: \n",
    "\n",
    "1. Tiếng Việt: Từ ý tưởng đến hiện thực: Xây dựng hệ thống CAD cho hình ảnh FNA tuyến giáp\n",
    "\n",
    "2. Tiếng Anh: From concept to reality: Building a CAD system for thyroid FNA images\n",
    "\n",
    "Từ ý tưởng đến hiện thực: Xây dựng hệ thống CAD cho hình ảnh FNA tuyến giáp\n",
    "(From concept to reality: Building a CAD system for thyroid FNA images)"
   ]
  }
 ],
 "metadata": {
  "language_info": {
   "name": "python"
  }
 },
 "nbformat": 4,
 "nbformat_minor": 2
}
