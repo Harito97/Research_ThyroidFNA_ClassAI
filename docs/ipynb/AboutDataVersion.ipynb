{
 "cells": [
  {
   "cell_type": "markdown",
   "metadata": {},
   "source": [
    "# Data Versions\n",
    "\n",
    "```markdown\n",
    "data/\n",
    "|___ raw/\n",
    "|       |___ Bx-July/: Data Origin (doesn't split train validation set)\n",
    "|       |___ dataver0/: Data spited train and validation set\n",
    "|\n",
    "|___ processed/         (dataver1, 2, 3 is all impacted by the result of cell cluster detect model)\n",
    "|       |___ dataver1/: Draw the bounding box of cell cluster in the origin image \n",
    "|       |               (split train:valid as dataver0)\n",
    "|       |___ dataver2_image/: The top 8 cropped cell cluster image from the origin image \n",
    "|       |               (split train:valid as dataver0)\n",
    "|       |               (first - find 8 largest area) \n",
    "|       |               (second - if not enough (0-7) then random 2 patch 768x768 + 6 patch 512x512)\n",
    "|       |___ dataver2_patch/: 12 patch image 256x256 from each 1024x768 image in dataver1\n",
    "|       |               (split train:valid as dataver0)\n",
    "|       |               (first - 1024x768 can split by 12 grid, each of them have size 256x256)\n",
    "|       |               (second - crop then resize to 224x224 - if needed)\n",
    "|       |___ dataver2_vector/: The output from the extractor feature\n",
    "|       |               (to merge multi module - model pipeline)\n",
    "|       |               (CNN, Transformer, CNN + ANN, ...)\n",
    "|___ external/\n",
    "|       |___ current doesn't add any data\n",
    "```"
   ]
  },
  {
   "cell_type": "markdown",
   "metadata": {},
   "source": [
    "# Look in them"
   ]
  },
  {
   "cell_type": "markdown",
   "metadata": {},
   "source": [
    "```bash\n",
    "jupyter notebook --no-browser --port=port_connect # in host machine\n",
    "ssh -p gate_connect -L port_connect:localhost:port_connect use_name@host_ip # in local machine\n",
    "```"
   ]
  },
  {
   "cell_type": "code",
   "execution_count": null,
   "metadata": {},
   "outputs": [],
   "source": [
    "import os\n",
    "import random\n",
    "from PIL import Image\n",
    "import matplotlib.pyplot as plt\n",
    "\n",
    "def show_apart_of_dataset(folder_path: str):\n",
    "    # Hàm phụ để lấy tất cả các file ảnh từ thư mục và thư mục con\n",
    "    def get_all_image_files(path):\n",
    "        image_files = []\n",
    "        for root, _, files in os.walk(path):\n",
    "            for file in files:\n",
    "                if file.lower().endswith(('.png', '.jpg', '.jpeg', '.bmp', '.gif')):\n",
    "                    image_files.append(os.path.join(root, file))\n",
    "        return image_files\n",
    "    \n",
    "    # Lấy danh sách tất cả các file ảnh trong thư mục và thư mục con\n",
    "    all_files = get_all_image_files(folder_path)\n",
    "    \n",
    "    # Kiểm tra nếu có đủ ảnh\n",
    "    if len(all_files) < 8:\n",
    "        raise ValueError(\"Thư mục không chứa đủ ảnh để chọn ngẫu nhiên 8 ảnh.\")\n",
    "    \n",
    "    # Chọn ngẫu nhiên 8 ảnh\n",
    "    selected_files = random.sample(all_files, 8)\n",
    "    \n",
    "    # Tạo subplot để hiển thị ảnh\n",
    "    fig, axes = plt.subplots(2, 4, figsize=(15, 6))\n",
    "    axes = axes.flatten()\n",
    "    \n",
    "    # Đọc và hiển thị từng ảnh\n",
    "    for ax, file_path in zip(axes, selected_files):\n",
    "        img = Image.open(file_path)\n",
    "        ax.imshow(img)\n",
    "        ax.set_title(os.path.basename(file_path))\n",
    "        ax.axis('off')\n",
    "    \n",
    "    plt.tight_layout()\n",
    "    plt.show()"
   ]
  },
  {
   "cell_type": "code",
   "execution_count": null,
   "metadata": {},
   "outputs": [],
   "source": [
    "folder_path = '/home/haipn/data/dataver0'\n",
    "show_apart_of_dataset(folder_path)"
   ]
  },
  {
   "cell_type": "code",
   "execution_count": null,
   "metadata": {},
   "outputs": [],
   "source": [
    "folder_path = '/home/haipn/Research_ThyroidFNA_ClassAI/results/dataver1'\n",
    "show_apart_of_dataset(folder_path)"
   ]
  },
  {
   "cell_type": "code",
   "execution_count": null,
   "metadata": {},
   "outputs": [],
   "source": [
    "folder_path = '/home/haipn/Research_ThyroidFNA_ClassAI/results/dataver2_image'\n",
    "show_apart_of_dataset(folder_path)"
   ]
  },
  {
   "cell_type": "code",
   "execution_count": null,
   "metadata": {},
   "outputs": [],
   "source": [
    "folder_path = '/home/haipn/Research_ThyroidFNA_ClassAI/results/dataver2_patch'\n",
    "show_apart_of_dataset(folder_path)"
   ]
  }
 ],
 "metadata": {
  "language_info": {
   "name": "python"
  }
 },
 "nbformat": 4,
 "nbformat_minor": 2
}
