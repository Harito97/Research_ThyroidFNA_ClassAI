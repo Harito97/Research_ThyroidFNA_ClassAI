{
 "cells": [
  {
   "cell_type": "markdown",
   "metadata": {},
   "source": [
    "# Data Versions\n",
    "\n",
    "```markdown\n",
    "data/\n",
    "|___ raw/\n",
    "|       |___ Bx-July/: Data Origin (doesn't split train validation set)\n",
    "|       |___ dataver0/: Data spited train and validation set\n",
    "|\n",
    "|___ processed/         (dataver1, 2, 3 is all impacted by the result of cell cluster detect model)\n",
    "|       |___ dataver1/: Draw the bounding box of cell cluster in the origin image \n",
    "|       |               (split train:valid as dataver0)\n",
    "|       |___ dataver2_image/: The top 8 cropped cell cluster image from the origin image \n",
    "|       |               (split train:valid as dataver0)\n",
    "|       |               (first - find 8 largest area) \n",
    "|       |               (second - if not enough (0-7) then random 2 patch 768x768 + 6 patch 512x512)\n",
    "|       |___ dataver2_patch/: 12 patch image 256x256 from each 1024x768 image in dataver1\n",
    "|       |               (split train:valid as dataver0)\n",
    "|       |               (first - 1024x768 can split by 12 grid, each of them have size 256x256)\n",
    "|       |               (second - crop then resize to 224x224 - if needed)\n",
    "|       |___ dataver2_vector/: The output from the extractor feature\n",
    "|       |               (to merge multi module - model pipeline)\n",
    "|       |               (CNN, Transformer, CNN + ANN, ...)\n",
    "|___ external/\n",
    "|       |___ current doesn't add any data\n",
    "```"
   ]
  }
 ],
 "metadata": {
  "language_info": {
   "name": "python"
  }
 },
 "nbformat": 4,
 "nbformat_minor": 2
}
